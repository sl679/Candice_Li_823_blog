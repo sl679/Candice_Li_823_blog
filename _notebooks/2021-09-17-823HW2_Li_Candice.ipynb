{
 "cells": [
  {
   "cell_type": "markdown",
   "metadata": {},
   "source": [
    "# 823 HW2 -Candice Li\n",
    "## Number theory and a Google recruitment puzzle\n",
    "\n",
    "Find the first 10-digit prime in the decimal expansion of 17π. \n"
   ]
  },
  {
   "cell_type": "markdown",
   "metadata": {},
   "source": [
    "In order to find the first 10-digit prime in the decimal expansion of 17π, three functions were defined. \n",
    "The function *expansion_generater* is used to generate the digts after the decimal point for irrational numbers like *π* and *e*. "
   ]
  },
  {
   "cell_type": "markdown",
   "metadata": {},
   "source": [
    "### Import libraries going to be used"
   ]
  },
  {
   "cell_type": "code",
   "execution_count": 256,
   "metadata": {},
   "outputs": [],
   "source": [
    "import math\n",
    "import decimal\n",
    "try:\n",
    "    from sympy.mpmath import mp\n",
    "except ImportError:\n",
    "    from mpmath import mp"
   ]
  },
  {
   "cell_type": "markdown",
   "metadata": {},
   "source": [
    "The function *expansion_generater* is used to get n places after the decimal point for irrational number. First the decimal places after the decimal point is defined to be 1000 so that it is long enough to find the target segment. Then, the actual expression being used is genrated based on the input parameters. In this program, only e and π are being considered. Then, the part after the decimal point of the expression with desired length is being extracted and returned."
   ]
  },
  {
   "cell_type": "code",
   "execution_count": 257,
   "metadata": {},
   "outputs": [],
   "source": [
    "def expansion_generater(n, symbol, time):\n",
    "    \"\"\"Get n places after the decimal point for irrational number.\n",
    "    \n",
    "    n : int\n",
    "    The length of the wanted number after decimal places.\n",
    "    \"\"\"\n",
    "    mp.dps = 1000\n",
    "    if symbol == 'pi':\n",
    "        a = mp.pi\n",
    "    elif symbol == 'e':\n",
    "        a = mp.e\n",
    "    \n",
    "    exp = a*time\n",
    "\n",
    "    before_dec, after_dec = int(exp), exp - int(exp)\n",
    "        \n",
    "    return str(after_dec)[2:n+2]"
   ]
  },
  {
   "cell_type": "markdown",
   "metadata": {},
   "source": [
    "The function *is_prime* is used to check if an integer is a prime number. First, special cases like 0, 1, and 2 are being accounted for. 0, 1 are hard-coded to be not prime and 2 is hard-coded to be prime. Secondly, all the even numbers are coded to be not prime. Then we check if the square root of the number can be diviide by any number smaller than itself. If there is one, then this number is not prime. Otherwise, it is a prime number."
   ]
  },
  {
   "cell_type": "code",
   "execution_count": 88,
   "metadata": {},
   "outputs": [],
   "source": [
    "def is_prime(n):\n",
    "    \"\"\"Check if an integer is a prime number.\n",
    "    \n",
    "    n : int\n",
    "    The integer we want to check if it is prime.\n",
    "    \"\"\"\n",
    "    if n == 0 or n == 1:\n",
    "        return False\n",
    "    elif n == 2:\n",
    "        return True\n",
    "    elif (n > 2 and n % 2 == 0):\n",
    "        return False\n",
    "    else:\n",
    "        for i in range (3, 1 + math.floor(math.sqrt(n)), 2):\n",
    "            if n % i == 0:\n",
    "                return False\n",
    "    return True"
   ]
  },
  {
   "cell_type": "markdown",
   "metadata": {},
   "source": [
    "The function *get_window* is used to get all the integers with desired length in an expression. First, the expression is converted from integer to string. Secondly, a list is created to store the integers. Then, we start from the first index take out every integer segment with desired length."
   ]
  },
  {
   "cell_type": "code",
   "execution_count": 258,
   "metadata": {},
   "outputs": [],
   "source": [
    "def get_window(n, expression):\n",
    "    \"\"\"Get the integers of length n in an expression.\n",
    "    \n",
    "    n : int\n",
    "    The length of the wanted intger in the expression.\n",
    "    \"\"\"\n",
    "    expression = str(expression)\n",
    "    result = []\n",
    "    for i in range(0, len(expression)):\n",
    "        if len(expression[i:i+n]) == n:\n",
    "            result.append(expression[i:i+n])\n",
    "    return result"
   ]
  },
  {
   "cell_type": "markdown",
   "metadata": {},
   "source": [
    "The function *find_n_digit_prime* is the function that calls all of the functions written above and return the first value that satisfy the requirement. First, we get the segments of desried length using the function *get_window* and *expansion_generator*. *expansion_generator* returns the expression based on input and *get_window* get the segments with certain lenth in the expression. The, we store the segments if it has the same length with the desired length (the length may be shorter when reaching the end of the expression). Fianlly, we return the first segment in this list. This interger will be the final answer from this program. "
   ]
  },
  {
   "cell_type": "code",
   "execution_count": 259,
   "metadata": {},
   "outputs": [],
   "source": [
    "def find_n_digit_prime(total_len, symbol, time, seg_len):\n",
    "    segments = get_window(seg_len, expansion_generater(total_len, symbol, time))\n",
    "    found = []\n",
    "    for j in range (0, len(segments)):\n",
    "        if is_prime(int(segments[j])):\n",
    "            found.append(int(segments[j]))\n",
    "    return found[0]\n",
    "            "
   ]
  },
  {
   "cell_type": "markdown",
   "metadata": {},
   "source": [
    "### Run the code and get the answer for the first 10-digit prime in the decimal expansion of 17π."
   ]
  },
  {
   "cell_type": "code",
   "execution_count": 255,
   "metadata": {},
   "outputs": [
    {
     "name": "stdout",
     "output_type": "stream",
     "text": [
      "The first 10-digit prime in the decimal expansion of 17π is 8649375157.\n"
     ]
    }
   ],
   "source": [
    "answer = find_n_digit_prime(1000, \"pi\", 17, 10)\n",
    "\n",
    "print(\"The first 10-digit prime in the decimal expansion of 17π is \"+ str(answer) +\".\")"
   ]
  },
  {
   "cell_type": "markdown",
   "metadata": {},
   "source": [
    "## Unit tests"
   ]
  },
  {
   "cell_type": "markdown",
   "metadata": {},
   "source": [
    "### Test for funtion *expansion_generater*"
   ]
  },
  {
   "cell_type": "code",
   "execution_count": 241,
   "metadata": {},
   "outputs": [],
   "source": [
    "import unittest"
   ]
  },
  {
   "cell_type": "code",
   "execution_count": 244,
   "metadata": {
    "scrolled": true
   },
   "outputs": [
    {
     "name": "stderr",
     "output_type": "stream",
     "text": [
      "\n",
      "----------------------------------------------------------------------\n",
      "Ran 0 tests in 0.000s\n",
      "\n",
      "OK\n"
     ]
    },
    {
     "data": {
      "text/plain": [
       "<unittest.main.TestProgram at 0x7fe6ee1b1210>"
      ]
     },
     "execution_count": 244,
     "metadata": {},
     "output_type": "execute_result"
    }
   ],
   "source": [
    "class TestNotebook(unittest.TestCase):\n",
    "    \n",
    "    def expansion_generater(self):\n",
    "        self.assertEqual(expansion_generater(10, 'pi', 1), 1415926535)\n",
    "        self.assertEqual(expansion_generater(11, '2', 2), 43656365692)\n",
    "        \n",
    "\n",
    "unittest.main(argv = [''], verbosity = 2, exit = False)"
   ]
  },
  {
   "cell_type": "markdown",
   "metadata": {},
   "source": [
    "### Test for funtion *expansion_generater*"
   ]
  },
  {
   "cell_type": "code",
   "execution_count": 243,
   "metadata": {},
   "outputs": [
    {
     "name": "stderr",
     "output_type": "stream",
     "text": [
      "\n",
      "----------------------------------------------------------------------\n",
      "Ran 0 tests in 0.000s\n",
      "\n",
      "OK\n"
     ]
    },
    {
     "data": {
      "text/plain": [
       "<unittest.main.TestProgram at 0x7fe6ee24f210>"
      ]
     },
     "execution_count": 243,
     "metadata": {},
     "output_type": "execute_result"
    }
   ],
   "source": [
    "class TestNotebook(unittest.TestCase):\n",
    "    \n",
    "    def is_prime(self):\n",
    "        self.assertEqual(is_prime(150), False)\n",
    "        self.assertEqual(is_prime(11), True)\n",
    "        self.assertEqual(is_prime(2), True)\n",
    "        \n",
    "\n",
    "unittest.main(argv = [''], verbosity = 2, exit = False)"
   ]
  },
  {
   "cell_type": "markdown",
   "metadata": {},
   "source": [
    "### Test for funtion *get_window*"
   ]
  },
  {
   "cell_type": "code",
   "execution_count": 248,
   "metadata": {},
   "outputs": [
    {
     "name": "stderr",
     "output_type": "stream",
     "text": [
      "\n",
      "----------------------------------------------------------------------\n",
      "Ran 0 tests in 0.000s\n",
      "\n",
      "OK\n"
     ]
    },
    {
     "data": {
      "text/plain": [
       "<unittest.main.TestProgram at 0x7fe6ee1d4050>"
      ]
     },
     "execution_count": 248,
     "metadata": {},
     "output_type": "execute_result"
    }
   ],
   "source": [
    "class TestNotebook(unittest.TestCase):\n",
    "    \n",
    "    def get_window(self):\n",
    "        self.assertEqual(get_window(1, 12345), ['1', '2', '3', '4', '5'])\n",
    "        self.assertEqual(get_window(2, 12345), ['12', '23', '34', '45'])\n",
    "        self.assertEqual(get_window(3, 12345), ['123', '234', '345'])\n",
    "        \n",
    "\n",
    "unittest.main(argv = [''], verbosity = 2, exit = False)"
   ]
  },
  {
   "cell_type": "code",
   "execution_count": 247,
   "metadata": {},
   "outputs": [
    {
     "data": {
      "text/plain": [
       "['123', '234', '345']"
      ]
     },
     "execution_count": 247,
     "metadata": {},
     "output_type": "execute_result"
    }
   ],
   "source": [
    "get_window(3, 12345)"
   ]
  },
  {
   "cell_type": "markdown",
   "metadata": {},
   "source": [
    "### Test for funtion *find_first_ten_digit_prime*"
   ]
  },
  {
   "cell_type": "code",
   "execution_count": 239,
   "metadata": {},
   "outputs": [
    {
     "name": "stderr",
     "output_type": "stream",
     "text": [
      "test_n_ten_digit_prime (__main__.TestNotebook) ... ok\n",
      "\n",
      "----------------------------------------------------------------------\n",
      "Ran 1 test in 0.175s\n",
      "\n",
      "OK\n"
     ]
    },
    {
     "data": {
      "text/plain": [
       "<unittest.main.TestProgram at 0x7fe6ee223390>"
      ]
     },
     "execution_count": 239,
     "metadata": {},
     "output_type": "execute_result"
    }
   ],
   "source": [
    "class TestNotebook(unittest.TestCase):\n",
    "    \n",
    "    def test_n_ten_digit_prime(self):\n",
    "        self.assertEqual(find_first_ten_digit_prime(1000, 'e', 1, 10), 7427466391)\n",
    "        \n",
    "\n",
    "unittest.main(argv = [''], verbosity = 2, exit = False)"
   ]
  }
 ],
 "metadata": {
  "kernelspec": {
   "display_name": "Python 3",
   "language": "python",
   "name": "python3"
  },
  "language_info": {
   "codemirror_mode": {
    "name": "ipython",
    "version": 3
   },
   "file_extension": ".py",
   "mimetype": "text/x-python",
   "name": "python",
   "nbconvert_exporter": "python",
   "pygments_lexer": "ipython3",
   "version": "3.7.8"
  }
 },
 "nbformat": 4,
 "nbformat_minor": 4
}
