{
 "cells": [
  {
   "cell_type": "markdown",
   "metadata": {},
   "source": [
    "# 823 HW1-Candice Li"
   ]
  },
  {
   "cell_type": "markdown",
   "metadata": {},
   "source": [
    "## Problem 6; Sum square difference; Solved by 496303 people"
   ]
  },
  {
   "cell_type": "markdown",
   "metadata": {},
   "source": [
    "### We define a function called *sum_square_diff*. First, we find the sum of squares of the of the numbers in a certain range. Then, we find the square of the sum of the numbers in the certain range. The we find the difference between the two results. We get 2640 for the difference."
   ]
  },
  {
   "cell_type": "code",
   "execution_count": 18,
   "metadata": {},
   "outputs": [
    {
     "name": "stdout",
     "output_type": "stream",
     "text": [
      "2640\n"
     ]
    }
   ],
   "source": [
    "def sum_square_diff(n):\n",
    "    \"\"\"Get the difference between the sum of the squares of the first one hundred natural \n",
    "    numbers and the square of the sum.\n",
    "    \n",
    "    n : integer\n",
    "    The integer we want to conduct sum square difference on.\n",
    "    \"\"\"\n",
    "    sum_square = 0\n",
    "    square_sum = 0\n",
    "    for i in range(1, n+1):\n",
    "        sum_square = sum_square + (i**2) \n",
    "    \n",
    "    for i in range(1, n+1):\n",
    "        square_sum = square_sum + i\n",
    "    \n",
    "    square_sum = (square_sum ** 2)\n",
    "    \n",
    "    result = square_sum - sum_square\n",
    "    return result\n",
    "\n",
    "print(sum_square_diff(10)) "
   ]
  },
  {
   "cell_type": "markdown",
   "metadata": {},
   "source": [
    "## Problem 34; Digit factorials; Solved by 59089 people"
   ]
  },
  {
   "cell_type": "markdown",
   "metadata": {},
   "source": [
    "### We define a function called *get_sum()* to find the sum of all the curious numbers like 145.  First we define a function to find the digits of a number called the *get_digits*. In this function, we convert the number to a string and put the digits in an array and then return the array. Then, we define the *get_fuctorial* function to get the factorial of a certain number. In this function, we use recursion. The base case is defined to be when the number is 1 or 0, else we multiply the number to the total result and minus 1 from the number and then pass it back to the function. After defining these functions, we find the number that the sum of the factorial of its digits equals itself and sum them up. For numbers between 3 and 9999999 because if all the digits are 9, the digits that possible fullfill the requirement of the curious number is around 7. For every number in this range, we pass every digits and get the sum of the factorial of them and compare the sum with the original number. If the two values are equal, then we add them into the result. Finally, we got 40730 for the sum."
   ]
  },
  {
   "cell_type": "code",
   "execution_count": 20,
   "metadata": {},
   "outputs": [
    {
     "name": "stdout",
     "output_type": "stream",
     "text": [
      "40730\n"
     ]
    }
   ],
   "source": [
    "def get_sum():\n",
    "    \"\"\"Get the sum of curious numbers which equals the sum of the factorial of its digits.\n",
    "    \"\"\"\n",
    "     \n",
    "    def get_digits(number):\n",
    "        \"\"\"Get the digints of a certain number\n",
    "        \n",
    "        number: integer\n",
    "        The intger that we want to get digits of.\n",
    "        \"\"\"\n",
    "        digs = []\n",
    "        for i in str(number):\n",
    "            digs.append(i)\n",
    "        return digs\n",
    "\n",
    "    def get_factorial(num):\n",
    "        \"\"\"Get the factorial of a number\n",
    "        \n",
    "        num: integer\n",
    "        The integer we want to get factorial of.\n",
    "        \"\"\"\n",
    "        if (num == 1 or num == 0):\n",
    "            return 1\n",
    "        else:\n",
    "            return num * get_factorial(num-1)\n",
    "      \n",
    "\n",
    "    total_sum = 0\n",
    "\n",
    "    for number in range(3, 1499999):\n",
    "        digits = get_digits(number)\n",
    "        fac_sum = 0\n",
    "        for dig in digits:\n",
    "            fac_sum = fac_sum + get_factorial(int(dig))\n",
    "        if (fac_sum == number):\n",
    "            total_sum = total_sum + number\n",
    "    return(total_sum)\n",
    "\n",
    "print(get_sum())\n"
   ]
  },
  {
   "cell_type": "markdown",
   "metadata": {},
   "source": [
    "## Problem 112; Bouncy numbers; Solved by 24434 people."
   ]
  },
  {
   "cell_type": "markdown",
   "metadata": {},
   "source": [
    "### We define a function called *get_lim()* to get the least number for which the proportion of bouncy numbers is exactly 99%. Under this function, first we call a function to find the digits of a number called the *get_digits*. In this function, we convert the number to a string and put the digits in an array and then return the array. Then, we define an *is_increase()* function to check if the number is an increasing number. In this function, we first call the *get_digits()* function to get digits of the number; then we compare the digits with the next digits to see if it is an increasing number. Then, we define an *is_decrease()* function to check if the number is a decreasing number. In this function, we first call the *get_digits()* function to get digits of the number; then we compare the digits with the next digits to see if it is a decreasing number. Thirdly, we define a *is_bouncy()* function to check if the number is a bouncy number. We call the *is_decrease()* and *is_increase()* function defined earlier. If the number is neither increasing or decreasing, then it is a bouncy number. Finally, we create a while loop to append every bouncy number in an array until the percent of bouncy numbers in the range get 99%. The result we got is 1587000."
   ]
  },
  {
   "cell_type": "code",
   "execution_count": 27,
   "metadata": {},
   "outputs": [
    {
     "name": "stdout",
     "output_type": "stream",
     "text": [
      "The least number for which the proportion of bouncy numbers is exactly 99% is 1587000\n"
     ]
    }
   ],
   "source": [
    "def get_lim():\n",
    "    \"\"\"Find the least number for which the proportion of bouncy numbers is exactly 99%\n",
    "    \"\"\"\n",
    "    \n",
    "    def get_digits(number):\n",
    "        \"\"\"\n",
    "        Get the dignits of integers.\n",
    "        \n",
    "        number: integer\n",
    "        The integer we want to get digits of.\n",
    "        \"\"\"\n",
    "        digs = []\n",
    "        for i in str(number):\n",
    "            digs.append(i)\n",
    "        return digs\n",
    "\n",
    "    def is_increase(number):\n",
    "        \"\"\"Check if the integer is an increasing number\n",
    "        \n",
    "        number: integer\n",
    "        The interger we want to check if is an increasing number.\n",
    "        \"\"\"\n",
    "        digits = get_digits(number)\n",
    "        result = 0\n",
    "        for i in range(0,len(digits) - 1):\n",
    "                if (int(digits[i+1]) >= int(digits[i])):\n",
    "                    result = result + 0\n",
    "                else: result += 1\n",
    "    \n",
    "        if (result == 0): return 1\n",
    "        else: return 0\n",
    "        return result\n",
    "\n",
    "    def is_decrease(number):\n",
    "        \"\"\"Check if the integer is a decreasing number\n",
    "        \n",
    "        number: integer\n",
    "        The interger we want to check if is a decreasing number.\n",
    "        \"\"\"\n",
    "        digits = get_digits(number)\n",
    "        result = 0\n",
    "        for i in range(0,len(digits) - 1):\n",
    "                if (int(digits[i+1]) <= int(digits[i])):\n",
    "                    result = result + 0\n",
    "                else: result += 1\n",
    "        if (result == 0): return 1\n",
    "        else: return 0\n",
    "        return result\n",
    "\n",
    "    def is_bouncy(number):\n",
    "        \"\"\"Check if the integer is a bouncy number\n",
    "        \n",
    "        number: integer\n",
    "        The interger we want to check if is a bouncy number.\n",
    "        \"\"\"\n",
    "        if ((is_increase(number) != 1) & (is_decrease(number) != 1)):\n",
    "            return 1\n",
    "        else: return 0\n",
    "    \n",
    "    number = 0; percent = 0; b =[]\n",
    "    while percent < 0.99:\n",
    "        number += 1\n",
    "        if is_bouncy(number):\n",
    "            b.append(number)\n",
    "        percent = len(b)/number\n",
    "    print(\"The least number for which the proportion of bouncy numbers is exactly 99% is \" + str(number))   \n",
    "\n",
    "get_lim()"
   ]
  }
 ],
 "metadata": {
  "kernelspec": {
   "display_name": "Python 3",
   "language": "python",
   "name": "python3"
  },
  "language_info": {
   "codemirror_mode": {
    "name": "ipython",
    "version": 3
   },
   "file_extension": ".py",
   "mimetype": "text/x-python",
   "name": "python",
   "nbconvert_exporter": "python",
   "pygments_lexer": "ipython3",
   "version": "3.7.8"
  }
 },
 "nbformat": 4,
 "nbformat_minor": 4
}
