{
 "cells": [
  {
   "cell_type": "markdown",
   "metadata": {},
   "source": [
    "# 823 HW1-Candice Li"
   ]
  },
  {
   "cell_type": "markdown",
   "metadata": {},
   "source": [
    "## Problem 6; Sum square difference; Solved by 496303 people"
   ]
  },
  {
   "cell_type": "code",
   "execution_count": 7,
   "metadata": {},
   "outputs": [
    {
     "name": "stdout",
     "output_type": "stream",
     "text": [
      "25164150\n"
     ]
    }
   ],
   "source": [
    "def sum_square_diff(n):\n",
    "    \"\"\"Get the difference between the sum of the squares of the first one hundred natural \n",
    "    numbers and the square of the sum.\n",
    "    \n",
    "    n : integer\n",
    "    The integer we want to conduct sum square difference on.\n",
    "    \"\"\"\n",
    "    sum_square = 0\n",
    "    square_sum = 0\n",
    "    for i in range(1, n+1):\n",
    "        sum_square = sum_square + (i**2) \n",
    "    \n",
    "    for i in range(1, n+1):\n",
    "        square_sum = square_sum + i\n",
    "    \n",
    "    square_sum = (square_sum ** 2)\n",
    "    \n",
    "    result = square_sum - sum_square\n",
    "    return result\n",
    "\n",
    "print(sum_square_diff(100)) "
   ]
  },
  {
   "cell_type": "markdown",
   "metadata": {},
   "source": [
    "## Problem 34; Digit factorials; Solved by 59089 people"
   ]
  },
  {
   "cell_type": "code",
   "execution_count": 17,
   "metadata": {},
   "outputs": [
    {
     "name": "stdout",
     "output_type": "stream",
     "text": [
      "40730\n"
     ]
    }
   ],
   "source": [
    "def get_sum():\n",
    "    \"\"\"Get the sum of curious numbers which equals the sum of the factorial of its digits.\n",
    "    \"\"\"\n",
    "     \n",
    "    def get_digits(number):\n",
    "        \"\"\"Get the digints of a certain number\n",
    "        \n",
    "        number: integer\n",
    "        The intger that we want to get digits of.\n",
    "        \"\"\"\n",
    "        digs = []\n",
    "        for i in str(number):\n",
    "            digs.append(i)\n",
    "        return digs\n",
    "\n",
    "    def get_factorial(num):\n",
    "        \"\"\"Get the factorial of a number\n",
    "        \n",
    "        num: integer\n",
    "        The integer we want to get factorial of.\n",
    "        \"\"\"\n",
    "        if (num == 1):\n",
    "            return 1\n",
    "        elif (num != 1 and num != 0):\n",
    "            return num * get_factorial(num-1)\n",
    "        elif (num == 0):\n",
    "            return 1\n",
    "\n",
    "    total_sum = 0\n",
    "\n",
    "    for number in range(3, 100000):\n",
    "        digits = get_digits(number)\n",
    "        fac_sum = 0\n",
    "        for dig in digits:\n",
    "            fac_sum = fac_sum + get_factorial(int(dig))\n",
    "        if (fac_sum == number):\n",
    "            total_sum = total_sum + number\n",
    "    return(total_sum)\n",
    "\n",
    "print(get_sum())\n"
   ]
  },
  {
   "cell_type": "markdown",
   "metadata": {},
   "source": [
    "## Problem 112; Bouncy numbers;Solved by 24434 people."
   ]
  },
  {
   "cell_type": "code",
   "execution_count": 16,
   "metadata": {},
   "outputs": [
    {
     "name": "stdout",
     "output_type": "stream",
     "text": [
      "The least number for which the proportion of bouncy numbers is exactly 99% is 1587000\n"
     ]
    }
   ],
   "source": [
    "def get_lim():\n",
    "    \"\"\"Find the least number for which the proportion of bouncy numbers is exactly 99%\n",
    "    \"\"\"\n",
    "    \n",
    "    def get_digits(number):\n",
    "        \"\"\"\n",
    "        Get the dignits of integers.\n",
    "        \n",
    "        number: integer\n",
    "        The integer we want to get digits of.\n",
    "        \"\"\"\n",
    "        digs = []\n",
    "        for i in str(number):\n",
    "            digs.append(i)\n",
    "        return digs\n",
    "\n",
    "    def is_increase(number):\n",
    "        \"\"\"Check if the integer is an increasing number\n",
    "        \n",
    "        number: integer\n",
    "        The interger we want to check if is an increasing number.\n",
    "        \"\"\"\n",
    "        digits = get_digits(number)\n",
    "        result = 0\n",
    "        for i in range(0,len(digits) - 1):\n",
    "                if (int(digits[i+1]) >= int(digits[i])):\n",
    "                    result = result + 0\n",
    "                else: result += 1\n",
    "    \n",
    "        if (result == 0): return 1\n",
    "        else: return 0\n",
    "        return result\n",
    "\n",
    "    def is_decrease(number):\n",
    "         \"\"\"Check if the integer is a decreasing number\n",
    "        \n",
    "        number: integer\n",
    "        The interger we want to check if is a decreasing number.\n",
    "        \"\"\"\n",
    "        digits = get_digits(number)\n",
    "        result = 0\n",
    "        for i in range(0,len(digits) - 1):\n",
    "                if (int(digits[i+1]) <= int(digits[i])):\n",
    "                    result = result + 0\n",
    "                else: result += 1\n",
    "        if (result == 0): return 1\n",
    "        else: return 0\n",
    "        return result\n",
    "\n",
    "    def is_bouncy(number):\n",
    "        \"\"\"Check if the integer is a bouncy number\n",
    "        \n",
    "        number: integer\n",
    "        The interger we want to check if is a bouncy number.\n",
    "        \"\"\"\n",
    "        if ((is_increase(number) != 1) & (is_decrease(number) != 1)):\n",
    "            return 1\n",
    "        else: return 0\n",
    "    \n",
    "    number = 0; percent = 0; b =[]\n",
    "    while percent < 0.99:\n",
    "        number += 1\n",
    "        if is_bouncy(number):\n",
    "            b.append(number)\n",
    "        percent = len(b)/number\n",
    "    print(\"The least number for which the proportion of bouncy numbers is exactly 99% is \" + str(number))   \n",
    "\n",
    "get_lim()"
   ]
  }
 ],
 "metadata": {
  "kernelspec": {
   "display_name": "Python 3",
   "language": "python",
   "name": "python3"
  },
  "language_info": {
   "codemirror_mode": {
    "name": "ipython",
    "version": 3
   },
   "file_extension": ".py",
   "mimetype": "text/x-python",
   "name": "python",
   "nbconvert_exporter": "python",
   "pygments_lexer": "ipython3",
   "version": "3.7.8"
  }
 },
 "nbformat": 4,
 "nbformat_minor": 4
}
