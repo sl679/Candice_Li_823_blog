{
 "cells": [
  {
   "cell_type": "markdown",
   "metadata": {},
   "source": [
    "# 823 HW3\n",
    "Creating effective visualizations using [best practices](https://rafalab.github.io/dsbook/data-visualization-principles.html)\n",
    "\n",
    "Create 3 informative visualizations about malaria using Python in a Jupyter notebook, starting with the data sets at https://github.com/rfordatascience/tidytuesday/tree/master/data/2018/2018-11-13. Where appropriate, make the visualizations [interactive](https://jupyterbook.org/interactive/interactive.html).\n",
    "\n",
    "**Note** There are many libraries you can use for each task. Choose one library and explain why you chose it in your blog.\n"
   ]
  },
  {
   "cell_type": "code",
   "execution_count": 1,
   "metadata": {},
   "outputs": [],
   "source": [
    "import csv\n",
    "import datetime\n",
    "import numpy as np\n",
    "import pandas as pd\n",
    "\n",
    "\n",
    "import matplotlib.pyplot as plt\n",
    "import plotly.graph_objects as go\n",
    "from ipywidgets import widgets"
   ]
  },
  {
   "cell_type": "code",
   "execution_count": 4,
   "metadata": {},
   "outputs": [],
   "source": [
    "df_death = pd.read_csv('data/malaria_deaths.csv')\n",
    "df_inc = pd.read_csv('data/malaria_inc.csv')\n",
    "df_death_age =pd.read_csv('data/malaria_deaths_age.csv')"
   ]
  },
  {
   "cell_type": "code",
   "execution_count": 5,
   "metadata": {},
   "outputs": [],
   "source": [
    "df_death.rename(columns = {\"Deaths - Malaria - Sex: Both - Age: Age-standardized (Rate) (per 100,000 people)\": \"death_rate\"},\n",
    "                         inplace = True)\n",
    "df_inc.rename(columns = {\"Incidence of malaria (per 1,000 population at risk) (per 1,000 population at risk)\": \"death_inc\"},\n",
    "             inplace = True)"
   ]
  },
  {
   "cell_type": "code",
   "execution_count": 6,
   "metadata": {},
   "outputs": [],
   "source": [
    "import plotly.express as px"
   ]
  },
  {
   "cell_type": "markdown",
   "metadata": {},
   "source": [
    "## Plot 1 \n",
    "### for 'malaria_deaths.csv' data"
   ]
  },
  {
   "cell_type": "code",
   "execution_count": 34,
   "metadata": {},
   "outputs": [],
   "source": [
    "def create_scatter1(select_country):\n",
    "    with plt.style.context(\"ggplot\"):\n",
    "        fig = plt.figure(figsize=(8,4))\n",
    "\n",
    "        plt.scatter(x = df_death[df_death.Entity == select_country].Year,\n",
    "                    y = df_death[df_death.Entity == select_country].death_rate,\n",
    "                    s = 10\n",
    "                   )\n",
    "\n",
    "        plt.xlabel(\"Year\") \n",
    "        plt.title(\"Death Rate of Malaria from 1990 to 2016 in %s\" % (select_country))"
   ]
  },
  {
   "cell_type": "code",
   "execution_count": 35,
   "metadata": {
    "scrolled": false
   },
   "outputs": [
    {
     "data": {
      "application/vnd.jupyter.widget-view+json": {
       "model_id": "d415df753aeb4b989de0eb16e6028c37",
       "version_major": 2,
       "version_minor": 0
      },
      "text/plain": [
       "interactive(children=(Dropdown(description='select_country', options=('Afghanistan', 'Albania', 'Algeria', 'Am…"
      ]
     },
     "metadata": {},
     "output_type": "display_data"
    }
   ],
   "source": [
    "widgets.interact(create_scatter1, select_country = df_death[\"Entity\"].unique());"
   ]
  },
  {
   "cell_type": "markdown",
   "metadata": {},
   "source": [
    "## Plot 2\n",
    "### for 'malaria_inc.csv' data"
   ]
  },
  {
   "cell_type": "code",
   "execution_count": 46,
   "metadata": {},
   "outputs": [],
   "source": [
    "def create_scatter2(select_country):\n",
    "    with plt.style.context(\"ggplot\"):\n",
    "        fig = plt.figure(figsize=(8,4))\n",
    "\n",
    "        plt.scatter(x = df_inc[df_inc.Entity == select_country].Year,\n",
    "                    y = df_inc[df_inc.Entity == select_country].death_inc,\n",
    "                    s = 10\n",
    "                   )\n",
    "\n",
    "        plt.xlabel(\"Year\")\n",
    "        plt.ylabel(\"Incidence of malaria (per 1,000 population at risk)\")\n",
    "\n",
    "        plt.title(\"Death Rate of Malaria from 1990 to 2016 in %s\" % (select_country))"
   ]
  },
  {
   "cell_type": "code",
   "execution_count": 47,
   "metadata": {},
   "outputs": [
    {
     "data": {
      "application/vnd.jupyter.widget-view+json": {
       "model_id": "ddcb06c43c43487f983435b004cc229f",
       "version_major": 2,
       "version_minor": 0
      },
      "text/plain": [
       "interactive(children=(Dropdown(description='select_country', options=('Afghanistan', 'Algeria', 'Angola', 'Arg…"
      ]
     },
     "metadata": {},
     "output_type": "display_data"
    }
   ],
   "source": [
    "widgets.interact(create_scatter2, select_country = df_inc[\"Entity\"].unique());"
   ]
  },
  {
   "cell_type": "markdown",
   "metadata": {},
   "source": [
    "## Plot 3\n",
    "### for 'malaria_deaths.csv' data"
   ]
  },
  {
   "cell_type": "code",
   "execution_count": 7,
   "metadata": {},
   "outputs": [],
   "source": [
    "def create_scatter3(select_country, select_age):\n",
    "    with plt.style.context(\"ggplot\"):\n",
    "        fig = plt.figure(figsize=(10,6))\n",
    "        \n",
    "        selected_df = df_death_age.loc[(df_death_age.entity == select_country) & (df_death_age.age_group == select_age)]\n",
    "\n",
    "        plt.scatter(x = selected_df.year,\n",
    "                    y = selected_df.deaths,\n",
    "                    s = 10\n",
    "                   )\n",
    "\n",
    "        plt.xlabel(\"Year\")\n",
    "        plt.ylabel(\"Number of Deaths\")\n",
    "\n",
    "        plt.title(\"Deaths of Malaria from 1990 to 2016 in %s for people %s\" % (select_country, select_age))"
   ]
  },
  {
   "cell_type": "code",
   "execution_count": 8,
   "metadata": {
    "scrolled": true
   },
   "outputs": [
    {
     "data": {
      "application/vnd.jupyter.widget-view+json": {
       "model_id": "dc5411e0c89a47cab35be21ca386a8e6",
       "version_major": 2,
       "version_minor": 0
      },
      "text/plain": [
       "interactive(children=(Dropdown(description='select_country', options=('Afghanistan', 'Albania', 'Algeria', 'Am…"
      ]
     },
     "metadata": {},
     "output_type": "display_data"
    }
   ],
   "source": [
    "widgets.interact(create_scatter3, select_country = df_death_age[\"entity\"].unique(), select_age = df_death_age[\"age_group\"].unique());"
   ]
  }
 ],
 "metadata": {
  "kernelspec": {
   "display_name": "Python 3",
   "language": "python",
   "name": "python3"
  },
  "language_info": {
   "codemirror_mode": {
    "name": "ipython",
    "version": 3
   },
   "file_extension": ".py",
   "mimetype": "text/x-python",
   "name": "python",
   "nbconvert_exporter": "python",
   "pygments_lexer": "ipython3",
   "version": "3.7.8"
  }
 },
 "nbformat": 4,
 "nbformat_minor": 4
}
